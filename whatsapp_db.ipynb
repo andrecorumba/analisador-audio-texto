{
 "cells": [
  {
   "cell_type": "markdown",
   "id": "b6de8fd7-ca43-4924-9816-01ab6f2d3c57",
   "metadata": {},
   "source": [
    "# Base de Dados Whatsapp"
   ]
  },
  {
   "cell_type": "markdown",
   "id": "b572b7f4-5730-470a-bdcf-6bb338755202",
   "metadata": {},
   "source": [
    "Este caderno trabalha com os dados gravados pelo whatsapp em msgstore.db"
   ]
  },
  {
   "cell_type": "code",
   "execution_count": null,
   "id": "a330f362-b1ab-481a-a363-8da43ba58afe",
   "metadata": {},
   "outputs": [],
   "source": [
    "# Importação das bibliotecas\n",
    "import pandas as pd\n",
    "import numpy as np\n",
    "\n",
    "import sqlite3\n",
    "\n",
    "from wordcloud import WordCloud\n",
    "import matplotlib.pyplot as plt\n",
    "\n",
    "import nltk\n",
    "from nltk.corpus import stopwords\n",
    "from nltk.tokenize import sent_tokenize, word_tokenize, wordpunct_tokenize\n"
   ]
  },
  {
   "cell_type": "code",
   "execution_count": null,
   "id": "89e329d7-0d6d-46f0-96ba-db88532e69ec",
   "metadata": {},
   "outputs": [],
   "source": [
    "# Efetua download de pacotes da boblioteca nltk\n",
    "nltk.download('stopwords')\n",
    "nltk.download('punkt')"
   ]
  },
  {
   "cell_type": "markdown",
   "id": "51275b7c-238c-4ac1-bf95-9be7200003b8",
   "metadata": {},
   "source": [
    "## Conexao com Whatsapp DB"
   ]
  },
  {
   "cell_type": "code",
   "execution_count": null,
   "id": "84ccfa10-0714-4962-bc26-31eef775d40a",
   "metadata": {},
   "outputs": [],
   "source": [
    "# Conexao com o arquivo do banco de dados SQLITE\n",
    "con = sqlite3.connect(\"Dados_Celular/Database/msgstore.db\")"
   ]
  },
  {
   "cell_type": "code",
   "execution_count": null,
   "id": "84e0a42d-3672-4a36-9e05-d0dbb97c2ad3",
   "metadata": {},
   "outputs": [],
   "source": [
    "cur = con.cursor()"
   ]
  },
  {
   "cell_type": "markdown",
   "id": "47f6f23d-12c8-4da2-88af-e66820613633",
   "metadata": {},
   "source": [
    "## Trazer todas as mensagens para um DataFrame"
   ]
  },
  {
   "cell_type": "code",
   "execution_count": null,
   "id": "065e10f0-cd11-4f9e-8e64-409b196115e7",
   "metadata": {},
   "outputs": [],
   "source": [
    "res_mensagens = cur.execute('SELECT * FROM messages')\n",
    "df_mensagens = pd.DataFrame(res_mensagens.fetchall())\n",
    "df_mensagens.head()"
   ]
  },
  {
   "cell_type": "markdown",
   "id": "b6b3534e-834d-450e-8c47-5bf3e898ea66",
   "metadata": {},
   "source": [
    "## Contatos com quem a pessoa teve mais conversas"
   ]
  },
  {
   "cell_type": "code",
   "execution_count": null,
   "id": "1bd1ae8f-08ee-435e-8f09-2aed6de604b5",
   "metadata": {},
   "outputs": [],
   "source": [
    "# Identificando maiores conversas\n",
    "res = cur.execute(\"\"\"SELECT key_remote_jid\n",
    "                            ,count(*) AS number_of_messages\n",
    "                     FROM messages\n",
    "                     GROUP BY key_remote_jid\n",
    "                     ORDER BY number_of_messages DESC\n",
    "                     LIMIT 15\"\"\" )\n",
    "df_maiores_conversas = pd.DataFrame(res.fetchall())\n",
    "df_maiores_conversas.columns=['contato','quantidade']\n",
    "df_maiores_conversas"
   ]
  },
  {
   "cell_type": "code",
   "execution_count": null,
   "id": "858ce84d-b300-454d-8eac-1756aaa0c35d",
   "metadata": {},
   "outputs": [],
   "source": [
    "df_maiores_conversas.plot.bar()"
   ]
  },
  {
   "cell_type": "code",
   "execution_count": null,
   "id": "f8fad014-c1e9-4e36-b229-ffb083fa3b7f",
   "metadata": {},
   "outputs": [],
   "source": [
    "# Query para trazer todas as conversas com um contato em um DataFrame\n",
    "contato = 'XXXXXXXXXXXXX@s.whatsapp.net'\n",
    "\n",
    "query_conversa = f\"\"\"\n",
    "                    SELECT *\n",
    "                    FROM messages\n",
    "                    WHERE key_remote_jid == '{contato}' \n",
    "                 \"\"\"\n",
    "# Executa a query e retorna o resultado em um DataFrame\n",
    "res_conversa = cur.execute(query_conversa)\n",
    "df_conversa = pd.DataFrame(res_conversa.fetchall())\n",
    "\n",
    "# Pega o nome das colunas e renomeia no DataFrame\n",
    "lista_colunas = []\n",
    "for i in range(len(res_conversa.description)):\n",
    "    lista_colunas.append(res_conversa.description[i][0])\n",
    "df_conversa.columns = lista_colunas\n",
    "    \n",
    "#df_conversa.columns=['contato','quantidade']\n",
    "pd.set_option('display.max_columns', None)\n",
    "df_conversa.head()\n"
   ]
  },
  {
   "cell_type": "code",
   "execution_count": null,
   "id": "8d0d5948-13ef-42d3-a0d2-f7fb295d95ae",
   "metadata": {},
   "outputs": [],
   "source": [
    "# Imprime a Nuvem de Palavras\n",
    "# Ajusta o dataframe e junta todo o conteudo do campo transcricao em uma unica string sem espaços duplos\n",
    "\n",
    "serie = df_conversa['data']\n",
    "string_palavras = ' '\n",
    "string_palavras = serie.to_string()\n",
    "string_palavras = ' '.join(string_palavras.split())\n",
    "    \n",
    "# Remove as stop words\n",
    "stopwords = set(nltk.corpus.stopwords.words('portuguese'))\n",
    "outras_palavras_retirar = ['None','kkk', 'kkkk', 'kk', 'vc', 'bem', 'vou', 'não', 'Não']\n",
    "for p in outras_palavras_retirar:\n",
    "    stopwords.add(p)\n",
    "\n",
    "palavras_tokenized = nltk.word_tokenize(string_palavras, language='portuguese')\n",
    "\n",
    "palavras_para_nuvem = ' '\n",
    "\n",
    "for palavra in palavras_tokenized:\n",
    "    if not(palavra in stopwords):\n",
    "        palavras_para_nuvem = palavras_para_nuvem + ' ' + palavra\n",
    "    \n",
    "# Plota a nuvem de palavras e grava em um arquivo de imagem\n",
    "x, y = np.ogrid[:300, :300]\n",
    "\n",
    "mask = (x - 150) ** 2 + (y - 150) ** 2 > 130 ** 2\n",
    "mask = 255 * mask.astype(int)\n",
    "\n",
    "wc = WordCloud(background_color=\"white\", repeat=True, mask=mask)\n",
    "\n",
    "wc.generate(palavras_para_nuvem)\n",
    "#wc.to_file(\"Saida/wordcloud/laudo_XXX_20XX_item_XX.png\")\n",
    "plt.imshow(wc) \n",
    "\n"
   ]
  }
 ],
 "metadata": {
  "kernelspec": {
   "display_name": "venv",
   "language": "python",
   "name": "venv"
  },
  "language_info": {
   "codemirror_mode": {
    "name": "ipython",
    "version": 3
   },
   "file_extension": ".py",
   "mimetype": "text/x-python",
   "name": "python",
   "nbconvert_exporter": "python",
   "pygments_lexer": "ipython3",
   "version": "3.10.6"
  }
 },
 "nbformat": 4,
 "nbformat_minor": 5
}
