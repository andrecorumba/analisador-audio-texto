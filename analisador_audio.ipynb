{
 "cells": [
  {
   "cell_type": "markdown",
   "metadata": {},
   "source": [
    "# Analisador Audio Texto"
   ]
  },
  {
   "cell_type": "markdown",
   "metadata": {},
   "source": [
    "Caderno para conversão e análise de audio.\n",
    "\n",
    "Pré requisitos:\n",
    "\n",
    "Instalar o ffmpeg para conversão de formatos de áudio.\n",
    "\n",
    "Pode-se instalar pelo Homebrew por meio do comando: brew install ffmpeg.\n",
    "\n",
    "Instalar a biblioteca vosk: pip install vosk\n",
    "\n",
    "Baixar o modelo do vosk em português no site:\n",
    "https://alphacephei.com/vosk/models\n",
    "Arquivo: vosk-model-small-pt-0.3\n"
   ]
  },
  {
   "cell_type": "code",
   "execution_count": 126,
   "metadata": {},
   "outputs": [],
   "source": [
    "# Importação das bibliotecas\n",
    "import os\n",
    "\n",
    "import subprocess\n",
    "import sys\n",
    "\n",
    "from vosk import Model, KaldiRecognizer, SetLogLevel\n",
    "\n",
    "import json\n",
    "\n",
    "import pandas as pd\n",
    "\n",
    "import IPython"
   ]
  },
  {
   "cell_type": "code",
   "execution_count": 45,
   "metadata": {},
   "outputs": [
    {
     "name": "stdout",
     "output_type": "stream",
     "text": [
      "Quantidade de aquivos na pasta /Users/andreluiz/Documents/projetos/analisador-audio-texto/Audio/:  8\n",
      "['AUD-20190701-WA0005.wav', 'AUD-20200128-WA0006.mp3', 'Voz 001.m4a', 'PTT-20200304-WA0005.opus', 'PTT-20200304-WA0006.opus', 'AUD-20190701-WA0005.mp3', 'AUD-20200216-WA0011.aac', 'AUD-20190723-WA0001.m4a']\n"
     ]
    }
   ],
   "source": [
    "# Ler vários formatos de arquivo de áudio de uma pasta.\n",
    "pasta = os.getcwd() + r'/Audio' + r'/'\n",
    "lista_arquivos = os.listdir(pasta)\n",
    "print(f\"Quantidade de aquivos na pasta {pasta}: \", len(lista_arquivos))\n",
    "print(lista_arquivos)"
   ]
  },
  {
   "cell_type": "markdown",
   "metadata": {},
   "source": [
    "## Transcrever os áudios e gravar em um json"
   ]
  },
  {
   "cell_type": "code",
   "execution_count": 87,
   "metadata": {},
   "outputs": [
    {
     "name": "stderr",
     "output_type": "stream",
     "text": [
      "LOG (VoskAPI:ReadDataFiles():model.cc:213) Decoding params beam=13 max-active=7000 lattice-beam=6\n",
      "LOG (VoskAPI:ReadDataFiles():model.cc:216) Silence phones 1:2:3:4:5:6:7:8:9:10\n",
      "LOG (VoskAPI:RemoveOrphanNodes():nnet-nnet.cc:948) Removed 1 orphan nodes.\n",
      "LOG (VoskAPI:RemoveOrphanComponents():nnet-nnet.cc:847) Removing 2 orphan components.\n",
      "LOG (VoskAPI:Collapse():nnet-utils.cc:1488) Added 1 components, removed 2\n",
      "LOG (VoskAPI:ReadDataFiles():model.cc:248) Loading i-vector extractor from models/modelos/vosk-model-small-pt-0.3/ivector/final.ie\n",
      "LOG (VoskAPI:ComputeDerivedVars():ivector-extractor.cc:183) Computing derived variables for iVector extractor\n",
      "LOG (VoskAPI:ComputeDerivedVars():ivector-extractor.cc:204) Done.\n",
      "LOG (VoskAPI:ReadDataFiles():model.cc:282) Loading HCL and G from models/modelos/vosk-model-small-pt-0.3/HCLr.fst models/modelos/vosk-model-small-pt-0.3/Gr.fst\n",
      "LOG (VoskAPI:ReadDataFiles():model.cc:303) Loading winfo models/modelos/vosk-model-small-pt-0.3/word_boundary.int\n"
     ]
    }
   ],
   "source": [
    "# Inicializar variáveis e modelo\n",
    "\n",
    "SAMPLE_RATE = 16000\n",
    "\n",
    "SetLogLevel(0)\n",
    "\n",
    "model = Model('models/modelos/vosk-model-small-pt-0.3')\n",
    "rec = KaldiRecognizer(model, SAMPLE_RATE)\n",
    "lista_transcricoes = []\n",
    "\n",
    "# Ler cada arquivo e transcrever\n",
    "for arquivo in lista_arquivos:    \n",
    "    with subprocess.Popen([\"ffmpeg\", \"-loglevel\", \"quiet\", \"-i\",\n",
    "                            pasta + arquivo,\n",
    "                            \"-ar\", str(SAMPLE_RATE) , \"-ac\", \"1\", \"-f\", \"s16le\", \"-\"],\n",
    "                            stdout=subprocess.PIPE) as process:\n",
    "        transcricao = ' '\n",
    "        dic_transcricao = {}\n",
    "  \n",
    "\n",
    "        while True:\n",
    "            data = process.stdout.read(4000)\n",
    "            if len(data) == 0:\n",
    "                break\n",
    "            if rec.AcceptWaveform(data):\n",
    "                dic_transcricao = json.loads(rec.Result())\n",
    "                transcricao = transcricao + ' ' + dic_transcricao['text']\n",
    "\n",
    "        dic_transcricao = json.loads(rec.FinalResult())\n",
    "        transcricao = transcricao + ' ' + dic_transcricao['text']\n",
    "        lista_transcricoes.append(transcricao)"
   ]
  },
  {
   "cell_type": "code",
   "execution_count": 187,
   "metadata": {},
   "outputs": [
    {
     "data": {
      "text/plain": [
       "8"
      ]
     },
     "execution_count": 187,
     "metadata": {},
     "output_type": "execute_result"
    }
   ],
   "source": [
    "len(lista_transcricoes)"
   ]
  },
  {
   "cell_type": "code",
   "execution_count": 188,
   "metadata": {},
   "outputs": [
    {
     "data": {
      "text/html": [
       "<div>\n",
       "<style scoped>\n",
       "    .dataframe tbody tr th:only-of-type {\n",
       "        vertical-align: middle;\n",
       "    }\n",
       "\n",
       "    .dataframe tbody tr th {\n",
       "        vertical-align: top;\n",
       "    }\n",
       "\n",
       "    .dataframe thead th {\n",
       "        text-align: right;\n",
       "    }\n",
       "</style>\n",
       "<table border=\"1\" class=\"dataframe\">\n",
       "  <thead>\n",
       "    <tr style=\"text-align: right;\">\n",
       "      <th></th>\n",
       "      <th>transcricao</th>\n",
       "    </tr>\n",
       "  </thead>\n",
       "  <tbody>\n",
       "    <tr>\n",
       "      <th>AUD-20190701-WA0005.wav</th>\n",
       "      <td>o  costuma fazer o coração de quem se entre...</td>\n",
       "    </tr>\n",
       "    <tr>\n",
       "      <th>AUD-20200128-WA0006.mp3</th>\n",
       "      <td>uma o  gostou o coração de quem se entrega à...</td>\n",
       "    </tr>\n",
       "    <tr>\n",
       "      <th>Voz 001.m4a</th>\n",
       "      <td>o serviço  depois só de comer  e os de     e...</td>\n",
       "    </tr>\n",
       "    <tr>\n",
       "      <th>PTT-20200304-WA0005.opus</th>\n",
       "      <td>pa já sabe estou saindo pra ir pra lá o lá p...</td>\n",
       "    </tr>\n",
       "    <tr>\n",
       "      <th>PTT-20200304-WA0006.opus</th>\n",
       "      <td>mensagem eu tenho longo de dois chega lá voc...</td>\n",
       "    </tr>\n",
       "    <tr>\n",
       "      <th>AUD-20190701-WA0005.mp3</th>\n",
       "      <td>o  gostou o coração de quem se entrega à or...</td>\n",
       "    </tr>\n",
       "    <tr>\n",
       "      <th>AUD-20200216-WA0011.aac</th>\n",
       "      <td>gostou o coração de quem se entrega à ora...</td>\n",
       "    </tr>\n",
       "    <tr>\n",
       "      <th>AUD-20190723-WA0001.m4a</th>\n",
       "      <td>agora eu moral podem decidir qual é a omissã...</td>\n",
       "    </tr>\n",
       "  </tbody>\n",
       "</table>\n",
       "</div>"
      ],
      "text/plain": [
       "                                                                transcricao\n",
       "AUD-20190701-WA0005.wav      o  costuma fazer o coração de quem se entre...\n",
       "AUD-20200128-WA0006.mp3     uma o  gostou o coração de quem se entrega à...\n",
       "Voz 001.m4a                 o serviço  depois só de comer  e os de     e...\n",
       "PTT-20200304-WA0005.opus    pa já sabe estou saindo pra ir pra lá o lá p...\n",
       "PTT-20200304-WA0006.opus    mensagem eu tenho longo de dois chega lá voc...\n",
       "AUD-20190701-WA0005.mp3      o  gostou o coração de quem se entrega à or...\n",
       "AUD-20200216-WA0011.aac        gostou o coração de quem se entrega à ora...\n",
       "AUD-20190723-WA0001.m4a     agora eu moral podem decidir qual é a omissã..."
      ]
     },
     "execution_count": 188,
     "metadata": {},
     "output_type": "execute_result"
    }
   ],
   "source": [
    "# Cria um DataFrame com as transcrições\n",
    "# O nome do arquivo é o índice do Dataframe\n",
    "df_audio_transcricoes =  pd.DataFrame(lista_transcricoes, index=lista_arquivos, columns=['transcricao'])\n",
    "df_audio_transcricoes"
   ]
  },
  {
   "cell_type": "code",
   "execution_count": 153,
   "metadata": {},
   "outputs": [
    {
     "data": {
      "text/plain": [
       "'     gostou o coração de quem se entrega à oração mil histórias para contar costuma bem o coração de quem conversa com muita coisa neste domingo dia dezesseis de fevereiro estamos vivendo dia do senhor é o sexto domingo do tempo comum que nós saibamos deixar deus está acima de todas as coisas neste dia nos coloquemos em oração seja neste momento seja também no momento da santa missa iniciemos em nome do pai e do filho e do espírito santo amém que a graça de nosso senhor jesus cristo o amor do pai e a comunhão do espírito santo estejam sempre convosco bendito seja deus que não se reuniu no amor de cristo deixemos que as luzes de deus cheguem a nossa vida através das palavras do santo evangelho não importa se não  o evangelho de jesus cristo segundo mateus capítulo cinco de ciclos de vinte a vinte e dois vinte e sete vinte e oito trinta e três a trinta e quatro naquele tempo disse jesus a seus discípulos eu vos digo se a vossa justiça não for maior que a justiça dos mestres da lei e dos fariseus voz não entrareis no reino dos céus voz ouvistes que foi dito aos antigos não matarás quem matar será a do pelo tribunal eu porém vos digo todo aquele que sim coerência com seu irmão será réu em juízo ouvistes que foi dito não cometerás adultério eu porém vos digo todo aquele que olhar para uma mulher com desejo de possuir já cometeu adultério com ela no seu coração voz ouvistes também o que foi dito aos antigos não jurar falso mais cumprir prazos teu juramentos feitos ao senhor eu porém vos digo não jureis de modo algum seja o vosso sim sim o vosso não não tudo que for além disso vem do maligno palavra da salvação glória a vós sem  neste domingo jesus nos ensina que a nossa justiça deve ser maior do que a dos mestres da lei e fariseus tocando em outras palavras isso significa nós precisamos viver uma vida coerente e de acordo com a nossa fé eu não posso falar uma coisa e viver ultra pelo contrário preciso pedir a graça de deus as virtudes que vem de deus que elas sejam colocadas na minha vida e assim exercitando têm virtudes divinas colocadas em mim viver debaixo da graça de deus crescendo na santidade e na coerência de vida aquilo que eu quero propor para a minha vida eu peço a graça de deus muitas vezes as pessoas querem fazer lutas sozinhas sem pedir ajuda da graça de deus acham que sozinhos não vencer todo o pecado todas as tentações que podem surgir e então jesus lembra que muitas vezes o pecado ele já começa a acontecer no próprio coração como no versículo vinte e sete do evangelho de hoje todo aquele que olhar para uma mulher com desejo de possuir cometeu adultério no seu coração no sentido de que já no nosso coração estão as sementes daquilo que no o futuro poderá ser um ato de pecado e é ali que nós devemos combater tais pecados mas sozinhos nós não podemos precisamos pedir ajuda da graça de deus e por fim também o evangelho de hoje fala de juramentos jesus aqui está condenando aqueles tipos de juramentos que eram feitos particularmente porém se utilizando de realidades divinas pura e simplesmente para ganhar vantagens não era um juramento sinceros que se fazia pelas coisas sagradas para se buscar um bem maior no sentido espiritual mas eram juramentos muitas vezes voltados para a materialidade e também para benefício próprio e de forma a serem até mesmo injustos em certas circunstâncias por isso irmãos e irmãs que nós saibam ambos viver a justiça divina que é colocada em nosso coração a partir das virtudes vamos com você e por você neste domingo rezar as orações deste dia   pai nosso que estais nos céus santificado seja o vosso nome venha a nós o vosso reino seja feita a vossa vontade assim na terra como no céu o pão nosso de cada dia nos dai hoje perdoai as nossas ofensas assim como nós perdoamos a quem nos tem ofendido e não nos deixeis cair em tentação mas se livrar do mal amém ave maria cheia de graça o senhor é convosco bendita sois vós entre as mulheres e bendito é o fruto do vosso ventre jesus santa maria mãe de deus rogai por nós pecadores agora e na hora de nossa morte amém glória ao pai e ao filho e ao espírito santo como era no princípio agora e sempre amém jesus manso e humilde de coração fazei o nosso coração semelhante ao vosso o senhor esteja convosco ele está no meio de nós a nossa proteção está no nome do senhor que fez o céu e a terra o senhor jesus cristo esteja contigo para te proteger esteja a tua frente para te conduzir e atrás de ti para te guardarem olhe por ti que conserve te abençoe a mãe e a benção de deus todo poderoso pai e filho e espírito santo descer sobre vós e permanece para sempre neste domingo fique na paz e na alegria que vem de jesus abençoado dia a você e sua família   uma produção educadora de comunicação e higienização'"
      ]
     },
     "execution_count": 153,
     "metadata": {},
     "output_type": "execute_result"
    }
   ],
   "source": [
    "# Realizar filtros pelo índice com nome do arquivo\n",
    "arquivo_selecionado = 'AUD-20200216-WA0011.aac'\n",
    "\n",
    "df_audio_transcricoes['transcricao'].loc[arquivo_selecionado]\n",
    "\n",
    "#IPython.display.Audio(pasta + arquivo_selecionado)\n",
    "\n"
   ]
  },
  {
   "cell_type": "code",
   "execution_count": 184,
   "metadata": {},
   "outputs": [
    {
     "data": {
      "text/plain": [
       "AUD-20190701-WA0005.wav      True\n",
       "AUD-20200128-WA0006.mp3      True\n",
       "Voz 001.m4a                 False\n",
       "PTT-20200304-WA0005.opus    False\n",
       "PTT-20200304-WA0006.opus    False\n",
       "AUD-20190701-WA0005.mp3      True\n",
       "AUD-20200216-WA0011.aac      True\n",
       "AUD-20190723-WA0001.m4a     False\n",
       "Name: transcricao, dtype: bool"
      ]
     },
     "execution_count": 184,
     "metadata": {},
     "output_type": "execute_result"
    }
   ],
   "source": [
    "# Realiar filtro por palavras-chaves em todos as transcrições\n",
    "\n",
    "lista_palavras_chaves = ['jesus abençoado', 'família']\n",
    "palavra_chave = '|'.join(lista_palavras_chaves)\n",
    "\n",
    "serie_resultado = df_audio_transcricoes['transcricao'].str.contains(palavra_chave)\n",
    "serie_resultado"
   ]
  },
  {
   "cell_type": "code",
   "execution_count": 185,
   "metadata": {},
   "outputs": [
    {
     "data": {
      "text/html": [
       "<div>\n",
       "<style scoped>\n",
       "    .dataframe tbody tr th:only-of-type {\n",
       "        vertical-align: middle;\n",
       "    }\n",
       "\n",
       "    .dataframe tbody tr th {\n",
       "        vertical-align: top;\n",
       "    }\n",
       "\n",
       "    .dataframe thead th {\n",
       "        text-align: right;\n",
       "    }\n",
       "</style>\n",
       "<table border=\"1\" class=\"dataframe\">\n",
       "  <thead>\n",
       "    <tr style=\"text-align: right;\">\n",
       "      <th></th>\n",
       "      <th>arquivo</th>\n",
       "      <th>transcricao</th>\n",
       "    </tr>\n",
       "  </thead>\n",
       "  <tbody>\n",
       "    <tr>\n",
       "      <th>0</th>\n",
       "      <td>AUD-20190701-WA0005.wav</td>\n",
       "      <td>o  costuma fazer o coração de quem se entre...</td>\n",
       "    </tr>\n",
       "    <tr>\n",
       "      <th>1</th>\n",
       "      <td>AUD-20200128-WA0006.mp3</td>\n",
       "      <td>uma o  gostou o coração de quem se entrega à...</td>\n",
       "    </tr>\n",
       "    <tr>\n",
       "      <th>2</th>\n",
       "      <td>AUD-20190701-WA0005.mp3</td>\n",
       "      <td>o  gostou o coração de quem se entrega à or...</td>\n",
       "    </tr>\n",
       "    <tr>\n",
       "      <th>3</th>\n",
       "      <td>AUD-20200216-WA0011.aac</td>\n",
       "      <td>gostou o coração de quem se entrega à ora...</td>\n",
       "    </tr>\n",
       "  </tbody>\n",
       "</table>\n",
       "</div>"
      ],
      "text/plain": [
       "                   arquivo                                        transcricao\n",
       "0  AUD-20190701-WA0005.wav     o  costuma fazer o coração de quem se entre...\n",
       "1  AUD-20200128-WA0006.mp3    uma o  gostou o coração de quem se entrega à...\n",
       "2  AUD-20190701-WA0005.mp3     o  gostou o coração de quem se entrega à or...\n",
       "3  AUD-20200216-WA0011.aac       gostou o coração de quem se entrega à ora..."
      ]
     },
     "execution_count": 185,
     "metadata": {},
     "output_type": "execute_result"
    }
   ],
   "source": [
    "# Podemos mostrar tanto os audios em que APARECEM (True) as palavras chaves como NAO APARECEM (False)\n",
    "# Filtra as colunas que APARECEM as palavras chave (True). Para False colocar ~ antes\n",
    "\n",
    "df_filtrado =  df_audio_transcricoes[serie_resultado]\n",
    "df_filtrado = df_filtrado.rename_axis('arquivo').reset_index() # transformma indice em coluna do dataframe\n",
    "df_filtrado"
   ]
  },
  {
   "cell_type": "code",
   "execution_count": 186,
   "metadata": {},
   "outputs": [],
   "source": [
    "# Exporta o resultado filtrado para um arquivo csv\n",
    "\n",
    "df_filtrado.to_csv('Saida/audio_transcrito.csv', sep=';', encoding='latin-1')"
   ]
  }
 ],
 "metadata": {
  "kernelspec": {
   "display_name": "Python 3.11.0 ('.venv': venv)",
   "language": "python",
   "name": "python3"
  },
  "language_info": {
   "codemirror_mode": {
    "name": "ipython",
    "version": 3
   },
   "file_extension": ".py",
   "mimetype": "text/x-python",
   "name": "python",
   "nbconvert_exporter": "python",
   "pygments_lexer": "ipython3",
   "version": "3.11.0"
  },
  "orig_nbformat": 4,
  "vscode": {
   "interpreter": {
    "hash": "3c47e17cded3b437aeb44549506d5b79d91407b26ebd5fa619f3f212f5fbbee1"
   }
  }
 },
 "nbformat": 4,
 "nbformat_minor": 2
}
